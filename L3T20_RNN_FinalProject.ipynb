{
 "cells": [
  {
   "cell_type": "markdown",
   "metadata": {
    "colab_type": "text",
    "id": "eHGm8RQlK46m"
   },
   "source": [
    "# Get and explore dataset"
   ]
  },
  {
   "cell_type": "code",
   "execution_count": 672,
   "metadata": {
    "colab": {},
    "colab_type": "code",
    "id": "-erlYw1jXtgh"
   },
   "outputs": [],
   "source": [
    "import matplotlib.pyplot as plt\n",
    "from matplotlib import pyplot\n",
    "import numpy as np\n",
    "import re\n",
    "import tensorflow as tf\n",
    "from tensorflow import keras\n",
    "from keras.utils import to_categorical\n",
    "from keras.models import Sequential\n",
    "from keras.layers import LSTM, Dense, Dropout\n",
    "from sklearn.model_selection import train_test_split\n",
    "import sklearn\n",
    "from sklearn.metrics import confusion_matrix, precision_score, recall_score, f1_score\n",
    "from sklearn.metrics import hamming_loss\n",
    "from sklearn.metrics import accuracy_score"
   ]
  },
  {
   "cell_type": "code",
   "execution_count": 673,
   "metadata": {
    "colab": {},
    "colab_type": "code",
    "id": "goZIhX8nII4T"
   },
   "outputs": [],
   "source": [
    "# Make results reproducible - set random seed\n",
    "from numpy.random import seed\n",
    "seed(42)"
   ]
  },
  {
   "cell_type": "code",
   "execution_count": 674,
   "metadata": {
    "colab": {},
    "colab_type": "code",
    "id": "v_fEysQHII4W",
    "tags": []
   },
   "outputs": [],
   "source": [
    "negative_file = \"negative.txt\"\n",
    "positive_file = \"positive.txt\""
   ]
  },
  {
   "cell_type": "code",
   "execution_count": 675,
   "metadata": {
    "colab": {},
    "colab_type": "code",
    "id": "0rWm4yycII4Y",
    "tags": []
   },
   "outputs": [],
   "source": [
    "# Do not modify - helper function to load and preprocess data\n",
    "def filter_words(line):    \n",
    "    line = re.sub(r'[^\\w\\s]','',line.rstrip())\n",
    "    words = line.split(\" \") \n",
    "    words = [i.lower() for i in words if i]      \n",
    "    return \" \".join(words)\n",
    "\n",
    "def load_data(filename):\n",
    "    thefile = open(filename, 'r') \n",
    "    lines = thefile.readlines() \n",
    "\n",
    "    data = []\n",
    "    for l in range(0,len(lines)): \n",
    "        if(lines[l-1].strip() == \"<title>\"): \n",
    "            theline = filter_words(lines[l])\n",
    "            if(len(theline) < 50):\n",
    "                data.append(theline)            \n",
    "            \n",
    "    return data\n",
    "\n",
    "# Helper function to convert categorical data to class label\n",
    "def to_word_label(y):\n",
    "    y = to_class(y)   \n",
    "    return [\"positive\" if i==0 else \"negative\" for i in y]\n",
    "\n",
    "# Helper function to convert class label to numeric label\n",
    "def to_numeric_label(y):\n",
    "  return [0 if i==\"positive\" else 1 for i in word_labels]\n",
    "\n",
    "# Helper function: this function needs to be called before sending arrays to sklearn metrics,\n",
    "# it converts back to class form from categorical form. ie: [1,0] --> 0, [0,1] --> 1\n",
    "def to_class(y):\n",
    "    return np.argmax(y,axis=1) "
   ]
  },
  {
   "cell_type": "code",
   "execution_count": 676,
   "metadata": {
    "colab": {
     "base_uri": "https://localhost:8080/",
     "height": 70
    },
    "colab_type": "code",
    "id": "jjGUiFm9II4b",
    "outputId": "aa5eb89b-85f2-4d61-f33a-b00361b19a41",
    "tags": []
   },
   "outputs": [
    {
     "name": "stdout",
     "output_type": "stream",
     "text": [
      "['one of the best crichton novels', 'the medicine of the future', 'beautiful', 'for lovers of robicheaux', 'a good book', 'to the point and beautifully illustrated', 'at least somebody has got it', 'beautifully written heartwarming story', 'an excellent cookbook full of delicious recipes', 'an outstanding resource']\n",
      "['horrible book horrible', 'shallow selfindulgence', 'horrible book horrible', 'disappointment', 'a disappointing mess', 'save your money there are better books out there', 'thank you but no thanks', 'unendurable', 'the hard way', 'some good info among the political commercial']\n"
     ]
    }
   ],
   "source": [
    "positive = load_data(positive_file)\n",
    "negative = load_data(negative_file)\n",
    "\n",
    "print(positive[0:10])\n",
    "print(negative[0:10])"
   ]
  },
  {
   "cell_type": "code",
   "execution_count": 677,
   "metadata": {
    "colab": {},
    "colab_type": "code",
    "id": "yrgEYOOCII4d",
    "tags": []
   },
   "outputs": [],
   "source": [
    "# Do not modify - Combines the positive and negative reviews into a single list and create labels\n",
    "data = positive + negative\n",
    "word_labels = [\"positive\"] * len(positive) + [\"negative\"] * len(negative) \n",
    "\n",
    "# Converts labels to numbers in one-hot encoding - [1, 0] (positive) or [0, 1] (negative)\n",
    "from keras.utils import to_categorical\n",
    "labels  = to_categorical(to_numeric_label(word_labels))"
   ]
  },
  {
   "cell_type": "code",
   "execution_count": 678,
   "metadata": {
    "colab": {},
    "colab_type": "code",
    "id": "97Uh2uBpII4l",
    "tags": []
   },
   "outputs": [
    {
     "data": {
      "text/plain": [
       "Text(0.5, 1.0, 'Counts of Negative and Positive Reviews')"
      ]
     },
     "execution_count": 678,
     "metadata": {},
     "output_type": "execute_result"
    },
    {
     "data": {
      "image/png": "[encoded data removed]",
      "text/plain": [
       "<Figure size 432x288 with 1 Axes>"
      ]
     },
     "metadata": {
      "needs_background": "light"
     },
     "output_type": "display_data"
    }
   ],
   "source": [
    "# Write some code to investigate the dataset.\n",
    "lab = ['positive', 'negative']\n",
    "counts = [0, 0]\n",
    "for word in word_labels:\n",
    "    if word == 'positive':\n",
    "        counts[0] = counts[0] + 1\n",
    "    else:\n",
    "        counts[1] = counts[1] + 1\n",
    "\n",
    "plt.bar(np.arange(len(lab)), counts, align = 'center')\n",
    "plt.ylabel('Count')\n",
    "plt.xticks(np.arange(len(lab)), counts)\n",
    "plt.xlabel('Left - Positive, Right - Negative')\n",
    "plt.title(\"Counts of Negative and Positive Reviews\")\n",
    "\n"
   ]
  },
  {
   "cell_type": "code",
   "execution_count": 679,
   "metadata": {},
   "outputs": [
    {
     "name": "stdout",
     "output_type": "stream",
     "text": [
      "Mean:\n",
      "24.676519799219186\n",
      "Standard Deviation:\n",
      "11.28405192884278\n",
      "Number of unique words:\n",
      "2559\n"
     ]
    },
    {
     "data": {
      "image/png": "[encoded data removed]",
      "text/plain": [
       "<Figure size 432x288 with 1 Axes>"
      ]
     },
     "metadata": {
      "needs_background": "light"
     },
     "output_type": "display_data"
    }
   ],
   "source": [
    "# - Calculate and report the mean review size, its standard deviation and create a boxplot.\n",
    "lengths = []\n",
    "for review in data:\n",
    "    size = len(review)\n",
    "    lengths.append(size)\n",
    "\n",
    "print('Mean:')\n",
    "print(np.mean(lengths))\n",
    "standard_deviation = np.std(lengths)\n",
    "print('Standard Deviation:')\n",
    "print(standard_deviation)\n",
    "\n",
    "plt.boxplot(lengths)\n",
    "plt.title('Review Lengths')\n",
    "plt.ylabel('Length')\n",
    "\n",
    "# - Calculate the number of unique words in the dataset\n",
    "words = []\n",
    "count = 0\n",
    "for review in data:\n",
    "    temp_list = review.split(' ')\n",
    "    for word in temp_list:\n",
    "        if word.lower() not in words:\n",
    "            count+=1\n",
    "            words.append(word)\n",
    "\n",
    "print('Number of unique words:')\n",
    "print(count)\n",
    "            \n",
    "# - Perform any other dataset investigation that you feel would be valuable\n",
    " "
   ]
  },
  {
   "cell_type": "code",
   "execution_count": 680,
   "metadata": {
    "colab": {
     "base_uri": "https://localhost:8080/",
     "height": 50
    },
    "colab_type": "code",
    "id": "_XXnArgcII4i",
    "outputId": "020b2ee2-4c2a-4bc0-bb55-e2ae3841fe57",
    "tags": []
   },
   "outputs": [
    {
     "name": "stdout",
     "output_type": "stream",
     "text": [
      "['one of the best crichton novels', 'the medicine of the future', 'beautiful', 'for lovers of robicheaux', 'a good book']\n",
      "[[18, 4, 2, 19], [2, 4, 2], [], [6, 4], [1, 12, 3]]\n"
     ]
    }
   ],
   "source": [
    "# Do not modify - Tokenize the vocabulary \n",
    "from keras.preprocessing.text import Tokenizer\n",
    "\n",
    "tokenizer = Tokenizer(num_words=25)\n",
    "\n",
    "tokenizer.fit_on_texts(data) #create the vocabularry\n",
    "\n",
    "tokenized_data = tokenizer.texts_to_sequences(data) #tokenize the data using the vocabulary\n",
    "\n",
    "vocab_size = len(tokenizer.word_index) + 1 \n",
    "\n",
    "# Compare a sample of the data before and after tokenization\n",
    "print(data[0:5])\n",
    "print(tokenized_data[0:5])"
   ]
  },
  {
   "cell_type": "markdown",
   "metadata": {
    "colab_type": "text",
    "id": "_vsMmLjdK1Gf"
   },
   "source": [
    "# Pre-processing"
   ]
  },
  {
   "cell_type": "code",
   "execution_count": 681,
   "metadata": {
    "colab": {},
    "colab_type": "code",
    "id": "24DaXd1zII4q",
    "tags": []
   },
   "outputs": [],
   "source": [
    "# Pre-processing\n",
    "# Write some code to pre-process the data so that each review is the same length\n",
    "\n",
    "tokenized_data = tf.keras.preprocessing.sequence.pad_sequences(tokenized_data, maxlen=4)"
   ]
  },
  {
   "cell_type": "code",
   "execution_count": 682,
   "metadata": {
    "colab": {},
    "colab_type": "code",
    "id": "AFTJcFy6II4s",
    "tags": []
   },
   "outputs": [],
   "source": [
    "# Write some code to split the data into a training and test set. Make sure you shuffle the data. Use 20% for the test set.\n",
    "\n",
    "x_train, x_test, y_train, y_test = train_test_split(tokenized_data, labels, random_state = 123)\n"
   ]
  },
  {
   "cell_type": "code",
   "execution_count": 683,
   "metadata": {
    "colab": {
     "base_uri": "https://localhost:8080/",
     "height": 128
    },
    "colab_type": "code",
    "id": "lDth1BSzII4u",
    "outputId": "4614049a-7151-4407-9bc8-54604bbe7fdd"
   },
   "outputs": [],
   "source": [
    "\n",
    "\n",
    "# Fill in the following function so it\n",
    "# - makes a prediction for the test set given the model\n",
    "# - reports the precision, recall and f1 score. Also print the confusion matrix. \n",
    "# You will need to use the helper to_class function to convert y_pred and y_test before supplying them to the sklearn functions.\n",
    "\n",
    "def assess_model(model, x_test, y_test):      \n",
    "    #To do\n",
    "    ''' \n",
    "    first define y_pred as predicting based on x_test. Then push y_test and y_pred into to_class function. \n",
    "    Then using sklearn to determine all scores. Lastly will use sklearn to display the confusion matrix\n",
    "    '''\n",
    "    y_pred = model.predict(x_test)\n",
    "    y_pred = to_class(y_pred)\n",
    "    y_test = to_class(y_test)\n",
    "    precision_score = sklearn.metrics.precision_score(y_test, y_pred)\n",
    "    recall_score = sklearn.metrics.recall_score(y_test, y_pred)\n",
    "    f1_score = sklearn.metrics.f1_score(y_test, y_pred)\n",
    "    print('Precision Score:')\n",
    "    print(precision_score)\n",
    "    print('Recall Score:')\n",
    "    print(recall_score)\n",
    "    print('F1 Score:')\n",
    "    print(f1_score)\n",
    "    \n",
    "    print(sklearn.metrics.confusion_matrix(y_test, y_pred))\n",
    "\n",
    "    \n",
    "    "
   ]
  },
  {
   "cell_type": "markdown",
   "metadata": {
    "colab_type": "text",
    "id": "nTqLbbE6MpGt"
   },
   "source": [
    "# Build and tune model"
   ]
  },
  {
   "cell_type": "markdown",
   "metadata": {
    "colab_type": "text",
    "id": "3X70rA4uMXNv"
   },
   "source": [
    "Define network architecture"
   ]
  },
  {
   "cell_type": "code",
   "execution_count": 684,
   "metadata": {
    "colab": {},
    "colab_type": "code",
    "id": "wKoXWKG4II5F"
   },
   "outputs": [],
   "source": [
    "#create model with output_dim = 10\n",
    "model1 = tf.keras.models.Sequential()\n",
    "model1.add(tf.keras.layers.Embedding(input_dim = vocab_size, output_dim = 10, input_length = 4))\n",
    "model1.add(tf.keras.layers.SpatialDropout1D(0.2))\n",
    "model1.add(tf.keras.layers.BatchNormalization())\n",
    "model1.add(LSTM(32))\n",
    "model1.add(tf.keras.layers.Dense(2, activation = 'softmax'))\n",
    "\n",
    "# Complete: Compile the model\n",
    "model1.compile(optimizer = 'adam', loss = 'binary_crossentropy', metrics = ['accuracy'])\n"
   ]
  },
  {
   "cell_type": "markdown",
   "metadata": {
    "colab_type": "text",
    "id": "llS0-VKBMbz-"
   },
   "source": [
    "Train model"
   ]
  },
  {
   "cell_type": "code",
   "execution_count": 685,
   "metadata": {
    "colab": {},
    "colab_type": "code",
    "id": "F5IJs0QuMe_I"
   },
   "outputs": [
    {
     "name": "stdout",
     "output_type": "stream",
     "text": [
      "Epoch 1/5\n",
      "135/135 [==============================] - 3s 6ms/step - loss: 0.6888 - accuracy: 0.5327 - val_loss: 0.6908 - val_accuracy: 0.5813\n",
      "Epoch 2/5\n",
      "135/135 [==============================] - 0s 2ms/step - loss: 0.6688 - accuracy: 0.5915 - val_loss: 0.6823 - val_accuracy: 0.5813\n",
      "Epoch 3/5\n",
      "135/135 [==============================] - 0s 3ms/step - loss: 0.6480 - accuracy: 0.6042 - val_loss: 0.6688 - val_accuracy: 0.6058\n",
      "Epoch 4/5\n",
      "135/135 [==============================] - 0s 2ms/step - loss: 0.6439 - accuracy: 0.6138 - val_loss: 0.6611 - val_accuracy: 0.5991\n",
      "Epoch 5/5\n",
      "135/135 [==============================] - 0s 2ms/step - loss: 0.6427 - accuracy: 0.6146 - val_loss: 0.6625 - val_accuracy: 0.5924\n",
      "Model Performance:\n",
      "15/15 [==============================] - 0s 1ms/step\n",
      "Precision Score:\n",
      "0.597972972972973\n",
      "Recall Score:\n",
      "0.7344398340248963\n",
      "F1 Score:\n",
      "0.6592178770949721\n",
      "[[ 89 119]\n",
      " [ 64 177]]\n"
     ]
    }
   ],
   "source": [
    "# Complete: Fit the model\n",
    "model1.fit(x_train, y_train, validation_data = (x_test, y_test), epochs = 5, batch_size = 10)\n",
    "print('Model Performance:')\n",
    "assess_model(model1, x_test, y_test)"
   ]
  },
  {
   "cell_type": "code",
   "execution_count": 686,
   "metadata": {},
   "outputs": [
    {
     "name": "stdout",
     "output_type": "stream",
     "text": [
      "Epoch 1/5\n",
      "135/135 [==============================] - 3s 6ms/step - loss: 0.6788 - accuracy: 0.5573 - val_loss: 0.6879 - val_accuracy: 0.5924\n",
      "Epoch 2/5\n",
      "135/135 [==============================] - 0s 3ms/step - loss: 0.6581 - accuracy: 0.6034 - val_loss: 0.6786 - val_accuracy: 0.6036\n",
      "Epoch 3/5\n",
      "135/135 [==============================] - 0s 3ms/step - loss: 0.6443 - accuracy: 0.6183 - val_loss: 0.6651 - val_accuracy: 0.6013\n",
      "Epoch 4/5\n",
      "135/135 [==============================] - 0s 3ms/step - loss: 0.6415 - accuracy: 0.6265 - val_loss: 0.6589 - val_accuracy: 0.6147\n",
      "Epoch 5/5\n",
      "135/135 [==============================] - 0s 3ms/step - loss: 0.6342 - accuracy: 0.6205 - val_loss: 0.6572 - val_accuracy: 0.6102\n",
      "Model Performance:\n",
      "15/15 [==============================] - 0s 1ms/step\n",
      "Precision Score:\n",
      "0.625\n",
      "Recall Score:\n",
      "0.6846473029045643\n",
      "F1 Score:\n",
      "0.6534653465346535\n",
      "[[109  99]\n",
      " [ 76 165]]\n"
     ]
    }
   ],
   "source": [
    "#create model with output_dim = 25\n",
    "model2 = tf.keras.models.Sequential()\n",
    "model2.add(tf.keras.layers.Embedding(input_dim = vocab_size, output_dim = 25, input_length = 4))\n",
    "model2.add(tf.keras.layers.SpatialDropout1D(0.2))\n",
    "model2.add(tf.keras.layers.BatchNormalization())\n",
    "model2.add(LSTM(32))\n",
    "model2.add(tf.keras.layers.Dense(2, activation = 'softmax'))\n",
    "\n",
    "# Complete: Compile the model\n",
    "model2.compile(optimizer = 'adam', loss = 'binary_crossentropy', metrics = ['accuracy'])\n",
    "\n",
    "\n",
    "# Complete: Fit the model\n",
    "model2.fit(x_train, y_train, validation_data = (x_test, y_test), epochs = 5, batch_size = 10)\n",
    "print('Model Performance:')\n",
    "assess_model(model2, x_test, y_test)"
   ]
  },
  {
   "cell_type": "code",
   "execution_count": 687,
   "metadata": {},
   "outputs": [
    {
     "name": "stdout",
     "output_type": "stream",
     "text": [
      "Epoch 1/5\n",
      "135/135 [==============================] - 3s 6ms/step - loss: 0.6836 - accuracy: 0.5580 - val_loss: 0.6879 - val_accuracy: 0.5523\n",
      "Epoch 2/5\n",
      "135/135 [==============================] - 0s 3ms/step - loss: 0.6544 - accuracy: 0.6101 - val_loss: 0.6801 - val_accuracy: 0.5791\n",
      "Epoch 3/5\n",
      "135/135 [==============================] - 0s 3ms/step - loss: 0.6461 - accuracy: 0.6190 - val_loss: 0.6676 - val_accuracy: 0.5991\n",
      "Epoch 4/5\n",
      "135/135 [==============================] - 0s 3ms/step - loss: 0.6369 - accuracy: 0.6280 - val_loss: 0.6595 - val_accuracy: 0.5969\n",
      "Epoch 5/5\n",
      "135/135 [==============================] - 0s 3ms/step - loss: 0.6233 - accuracy: 0.6347 - val_loss: 0.6724 - val_accuracy: 0.5857\n",
      "Model Performance:\n",
      "15/15 [==============================] - 0s 1ms/step\n",
      "Precision Score:\n",
      "0.6190476190476191\n",
      "Recall Score:\n",
      "0.5933609958506224\n",
      "F1 Score:\n",
      "0.6059322033898304\n",
      "[[120  88]\n",
      " [ 98 143]]\n"
     ]
    }
   ],
   "source": [
    "#create model with output_dim = 50\n",
    "model3 = tf.keras.models.Sequential()\n",
    "model3.add(tf.keras.layers.Embedding(input_dim = vocab_size, output_dim = 50, input_length = 4))\n",
    "model3.add(tf.keras.layers.SpatialDropout1D(0.2))\n",
    "model3.add(tf.keras.layers.BatchNormalization())\n",
    "model3.add(LSTM(32))\n",
    "model3.add(tf.keras.layers.Dense(2, activation = 'softmax'))\n",
    "\n",
    "# Complete: Compile the model\n",
    "model3.compile(optimizer = 'adam', loss = 'binary_crossentropy', metrics = ['accuracy'])\n",
    "\n",
    "\n",
    "# Complete: Fit the model\n",
    "model3.fit(x_train, y_train, validation_data = (x_test, y_test), epochs = 5, batch_size = 10)\n",
    "print('Model Performance:')\n",
    "assess_model(model3, x_test, y_test)"
   ]
  },
  {
   "cell_type": "code",
   "execution_count": 688,
   "metadata": {},
   "outputs": [
    {
     "name": "stdout",
     "output_type": "stream",
     "text": [
      "Epoch 1/5\n",
      "135/135 [==============================] - 3s 6ms/step - loss: 0.6762 - accuracy: 0.5945 - val_loss: 0.6886 - val_accuracy: 0.5857\n",
      "Epoch 2/5\n",
      "135/135 [==============================] - 0s 3ms/step - loss: 0.6467 - accuracy: 0.6116 - val_loss: 0.6787 - val_accuracy: 0.5947\n",
      "Epoch 3/5\n",
      "135/135 [==============================] - 0s 3ms/step - loss: 0.6399 - accuracy: 0.6228 - val_loss: 0.6646 - val_accuracy: 0.6147\n",
      "Epoch 4/5\n",
      "135/135 [==============================] - 0s 3ms/step - loss: 0.6270 - accuracy: 0.6443 - val_loss: 0.6593 - val_accuracy: 0.5969\n",
      "Epoch 5/5\n",
      "135/135 [==============================] - 0s 3ms/step - loss: 0.6273 - accuracy: 0.6399 - val_loss: 0.6633 - val_accuracy: 0.5924\n",
      "Model Performance:\n",
      "15/15 [==============================] - 0s 1ms/step\n",
      "Precision Score:\n",
      "0.605072463768116\n",
      "Recall Score:\n",
      "0.6929460580912863\n",
      "F1 Score:\n",
      "0.6460348162475822\n",
      "[[ 99 109]\n",
      " [ 74 167]]\n"
     ]
    }
   ],
   "source": [
    "#create model with output_dim = 100\n",
    "model4 = tf.keras.models.Sequential()\n",
    "model4.add(tf.keras.layers.Embedding(input_dim = vocab_size, output_dim = 100, input_length = 4))\n",
    "model4.add(tf.keras.layers.SpatialDropout1D(0.2))\n",
    "model4.add(tf.keras.layers.BatchNormalization())\n",
    "model4.add(LSTM(32))\n",
    "model4.add(tf.keras.layers.Dense(2, activation = 'softmax'))\n",
    "\n",
    "# Complete: Compile the model\n",
    "model4.compile(optimizer = 'adam', loss = 'binary_crossentropy', metrics = ['accuracy'])\n",
    "\n",
    "\n",
    "# Complete: Fit the model\n",
    "model4.fit(x_train, y_train, validation_data = (x_test, y_test), epochs = 5, batch_size = 10)\n",
    "print('Model Performance:')\n",
    "assess_model(model4, x_test, y_test)"
   ]
  },
  {
   "cell_type": "markdown",
   "metadata": {
    "colab_type": "text",
    "id": "rniBBEiyMRKD"
   },
   "source": [
    "Examine performance of model"
   ]
  },
  {
   "cell_type": "markdown",
   "metadata": {
    "colab": {},
    "colab_type": "code",
    "id": "eBVogHg2II5T",
    "tags": []
   },
   "source": [
    "Looking at the 4 output_dim, the model with output_dim = 10 had the best score overall. There wasn't much change throughout, but the recall and F1 score tended to decrease as the output_dim increased, while the precision score only increased or decreased marginally. Therefore, model 1 had the best overall score as its recall score was 73%, precision score of 60%, and F1 score of 66%."
   ]
  },
  {
   "cell_type": "markdown",
   "metadata": {
    "colab_type": "text",
    "id": "HB8kzt-IME4U"
   },
   "source": [
    "Plot graphs for accuracy and loss"
   ]
  },
  {
   "cell_type": "code",
   "execution_count": 689,
   "metadata": {},
   "outputs": [
    {
     "name": "stdout",
     "output_type": "stream",
     "text": [
      "Epoch 1/5\n",
      "135/135 [==============================] - 3s 6ms/step - loss: 0.6809 - accuracy: 0.5722 - val_loss: 0.6881 - val_accuracy: 0.5835\n",
      "Epoch 2/5\n",
      "135/135 [==============================] - 0s 3ms/step - loss: 0.6518 - accuracy: 0.6049 - val_loss: 0.6789 - val_accuracy: 0.6169\n",
      "Epoch 3/5\n",
      "135/135 [==============================] - 0s 3ms/step - loss: 0.6422 - accuracy: 0.6213 - val_loss: 0.6661 - val_accuracy: 0.6125\n",
      "Epoch 4/5\n",
      "135/135 [==============================] - 0s 3ms/step - loss: 0.6336 - accuracy: 0.6362 - val_loss: 0.6627 - val_accuracy: 0.5924\n",
      "Epoch 5/5\n",
      "135/135 [==============================] - 0s 3ms/step - loss: 0.6271 - accuracy: 0.6332 - val_loss: 0.6720 - val_accuracy: 0.5902\n"
     ]
    },
    {
     "data": {
      "text/plain": [
       "<matplotlib.legend.Legend at 0x2500f0b1f10>"
      ]
     },
     "execution_count": 689,
     "metadata": {},
     "output_type": "execute_result"
    },
    {
     "data": {
      "image/png": "[encoded data removed]",
      "text/plain": [
       "<Figure size 432x288 with 1 Axes>"
      ]
     },
     "metadata": {
      "needs_background": "light"
     },
     "output_type": "display_data"
    }
   ],
   "source": [
    "#create model with output_dim = 100\n",
    "model5 = tf.keras.models.Sequential()\n",
    "model5.add(tf.keras.layers.Embedding(input_dim = vocab_size, output_dim = 100, input_length = 4))\n",
    "model5.add(tf.keras.layers.SpatialDropout1D(0.2))\n",
    "model5.add(tf.keras.layers.BatchNormalization())\n",
    "model5.add(LSTM(32))\n",
    "model5.add(tf.keras.layers.Dense(2, activation = 'softmax'))\n",
    "\n",
    "# Complete: Compile the model\n",
    "model5.compile(optimizer = 'adam', loss = 'binary_crossentropy', metrics = ['accuracy'])\n",
    "\n",
    "\n",
    "# Complete: Fit the model\n",
    "history = model5.fit(x_train, y_train, validation_data = (x_test, y_test), epochs = 5, batch_size = 10)\n",
    "\n",
    "plt.plot(history.history['accuracy'])\n",
    "plt.plot(history.history['val_accuracy'])\n",
    "plt.title('Model Accuracy')\n",
    "plt.ylabel('accuracy')\n",
    "plt.xlabel('epoch')\n",
    "plt.legend(['train', 'val'], loc = 'upper left')\n",
    "\n",
    "#reference: https://stackoverflow.com/questions/41908379/keras-plot-training-validation-and-test-set-accuracy"
   ]
  },
  {
   "cell_type": "code",
   "execution_count": 690,
   "metadata": {},
   "outputs": [
    {
     "data": {
      "text/plain": [
       "<matplotlib.legend.Legend at 0x25011919e80>"
      ]
     },
     "execution_count": 690,
     "metadata": {},
     "output_type": "execute_result"
    },
    {
     "data": {
      "image/png": "[encoded data removed]",
      "text/plain": [
       "<Figure size 432x288 with 1 Axes>"
      ]
     },
     "metadata": {
      "needs_background": "light"
     },
     "output_type": "display_data"
    }
   ],
   "source": [
    "plt.plot(history.history['loss'])\n",
    "plt.plot(history.history['val_loss'])\n",
    "plt.title('Model Loss')\n",
    "plt.ylabel('Loss')\n",
    "plt.xlabel('epoch')\n",
    "plt.legend(['train', 'val'], loc = 'upper left')"
   ]
  },
  {
   "cell_type": "markdown",
   "metadata": {
    "colab": {},
    "colab_type": "code",
    "id": "hPyJ78unMJUI"
   },
   "source": [
    "Looking at the model accuracy, we can see that it reaches its best accuracy at 3 epochs, and then begins to decrease there after. We can also see in the value in model loss begings to plateau after 2 epochs and increase again after 3 epochs. Therefore, for the best model we want to use 3 epochs to reach our best results."
   ]
  },
  {
   "cell_type": "code",
   "execution_count": 691,
   "metadata": {},
   "outputs": [
    {
     "name": "stdout",
     "output_type": "stream",
     "text": [
      "Epoch 1/3\n",
      "135/135 [==============================] - 3s 6ms/step - loss: 0.6811 - accuracy: 0.5618 - val_loss: 0.6895 - val_accuracy: 0.5947\n",
      "Epoch 2/3\n",
      "135/135 [==============================] - 0s 2ms/step - loss: 0.6659 - accuracy: 0.6004 - val_loss: 0.6812 - val_accuracy: 0.5724\n",
      "Epoch 3/3\n",
      "135/135 [==============================] - 0s 2ms/step - loss: 0.6561 - accuracy: 0.6049 - val_loss: 0.6735 - val_accuracy: 0.5969\n",
      "Model Performance:\n",
      "15/15 [==============================] - 0s 1ms/step\n",
      "Precision Score:\n",
      "0.5920245398773006\n",
      "Recall Score:\n",
      "0.8008298755186722\n",
      "F1 Score:\n",
      "0.6807760141093474\n",
      "[[ 75 133]\n",
      " [ 48 193]]\n"
     ]
    }
   ],
   "source": [
    "#create model with epochs = 3\n",
    "model_final = tf.keras.models.Sequential()\n",
    "model_final.add(tf.keras.layers.Embedding(input_dim = vocab_size, output_dim = 10, input_length = 4))\n",
    "model_final.add(tf.keras.layers.SpatialDropout1D(0.2))\n",
    "model_final.add(tf.keras.layers.BatchNormalization())\n",
    "model_final.add(LSTM(32))\n",
    "model_final.add(tf.keras.layers.Dense(2, activation = 'softmax'))\n",
    "\n",
    "# Complete: Compile the model\n",
    "model_final.compile(optimizer = 'adam', loss = 'binary_crossentropy', metrics = ['accuracy'])\n",
    "\n",
    "\n",
    "# Complete: Fit the model\n",
    "model_final.fit(x_train, y_train, validation_data = (x_test, y_test), epochs = 3, batch_size = 10)\n",
    "print('Model Performance:')\n",
    "assess_model(model_final, x_test, y_test)"
   ]
  },
  {
   "cell_type": "markdown",
   "metadata": {},
   "source": [
    "On our final model, we can see that the precision score is very similar to the other models, but the recall score jumps up to 80% and the F1 score is higher at 68%."
   ]
  },
  {
   "cell_type": "markdown",
   "metadata": {
    "colab_type": "text",
    "id": "eAZ1LyFBMLoK"
   },
   "source": [
    "# Make a prediction"
   ]
  },
  {
   "cell_type": "code",
   "execution_count": 699,
   "metadata": {
    "colab": {},
    "colab_type": "code",
    "id": "vfPM5LokII5V",
    "tags": []
   },
   "outputs": [
    {
     "name": "stdout",
     "output_type": "stream",
     "text": [
      "1/1 [==============================] - 0s 12ms/step\n",
      "['negative', 'negative', 'positive', 'negative', 'negative']\n"
     ]
    }
   ],
   "source": [
    "# This is a very small set of completed new data to use to make predictions.\n",
    "prediction_data = [\"this book is fabulous\",\"i hated this book\", \"the best\", \"no good\", \"okay\"]\n",
    "tokenized = tokenizer.texts_to_sequences(prediction_data)\n",
    "padded = tf.keras.preprocessing.sequence.pad_sequences(tokenized, padding='post', maxlen=4)\n",
    "\n",
    "# Supply this data to each of your models and see how it does. \n",
    "# You can call the helper function \"to_word_label\" to map the output of the model to the name of the\n",
    "# class it was predicted to belong to.\n",
    "y_pred = model_final.predict(padded)\n",
    "print(to_word_label(y_pred))\n",
    "\n",
    "\n"
   ]
  },
  {
   "cell_type": "markdown",
   "metadata": {},
   "source": [
    "As we can see, the model did struggle with these sample predictions. It did correctly mark the 3 review as positive, and the 2 and 4 as negative, however it failed to mark the 1 review as positive even though this one is obvious. The last review being netural explains the model marking it as negative when positive may have been a better choice. Overall, the model struggles to sift through netural reviews and sometimes makes mistakes on the more obvious reviews as well."
   ]
  },
  {
   "cell_type": "code",
   "execution_count": null,
   "metadata": {},
   "outputs": [],
   "source": []
  }
 ],
 "metadata": {
  "colab": {
   "collapsed_sections": [],
   "name": "L3T20.ipynb",
   "provenance": []
  },
  "kernelspec": {
   "display_name": "Python 3 (ipykernel)",
   "language": "python",
   "name": "python3"
  },
  "language_info": {
   "codemirror_mode": {
    "name": "ipython",
    "version": 3
   },
   "file_extension": ".py",
   "mimetype": "text/x-python",
   "name": "python",
   "nbconvert_exporter": "python",
   "pygments_lexer": "ipython3",
   "version": "3.9.12"
  }
 },
 "nbformat": 4,
 "nbformat_minor": 1
}
